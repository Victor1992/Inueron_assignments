{
 "cells": [
  {
   "cell_type": "markdown",
   "metadata": {},
   "source": [
    "# ineuron numpy assignment\n"
   ]
  },
  {
   "cell_type": "markdown",
   "metadata": {},
   "source": [
    "### Problem statement 1\n",
    "    Write a function so that the columns of the output matrix are powers of the input\n",
    "    vector.\n",
    "    The order of the powers is determined by the increasing boolean argument. Specifically, when\n",
    "    increasing is False, the i-th output column is the input vector raised element-wise to the power\n",
    "    of N - i - 1.\n",
    "\n",
    "    HINT: Such a matrix with a geometric progression in each row is named for Alexandre-\n",
    "    Theophile Vandermonde."
   ]
  },
  {
   "cell_type": "code",
   "execution_count": 1,
   "metadata": {},
   "outputs": [],
   "source": [
    "import numpy as np"
   ]
  },
  {
   "cell_type": "code",
   "execution_count": 20,
   "metadata": {},
   "outputs": [],
   "source": [
    "# Build vandermonde functionality\n",
    "def vandermonde_functionality(input_array, output_columns=0, power_order=False):\n",
    "    if(output_columns==0):\n",
    "        output_columns=len(input_array)\n",
    "    print(np.vander(input_array,output_columns,power_order))\n",
    "    "
   ]
  },
  {
   "cell_type": "code",
   "execution_count": 19,
   "metadata": {},
   "outputs": [
    {
     "name": "stdout",
     "output_type": "stream",
     "text": [
      "[[ 1  1  1]\n",
      " [ 4  2  1]\n",
      " [ 9  3  1]\n",
      " [16  4  1]]\n"
     ]
    }
   ],
   "source": [
    "# testing vandermonde function for different inputs\n",
    "input_array = np.array([1,2,3,4])\n",
    "vandermonde_functionality(input_array,3)"
   ]
  },
  {
   "cell_type": "code",
   "execution_count": 21,
   "metadata": {},
   "outputs": [
    {
     "name": "stdout",
     "output_type": "stream",
     "text": [
      "[[1 1]\n",
      " [1 2]\n",
      " [1 3]\n",
      " [1 4]]\n"
     ]
    }
   ],
   "source": [
    "vandermonde_functionality(input_array,2,True)"
   ]
  },
  {
   "cell_type": "markdown",
   "metadata": {},
   "source": [
    "## Problem Statment 2\n",
    "    Given a sequence of n values x1, x2, ..., xn and a window size k>0, the k-th moving average of\n",
    "    the given sequence is defined as follows:\n",
    "    The moving average sequence has n-k+1 elements as shown below.\n",
    "    The moving averages with k=4 of a ten-value sequence (n=10) is shown below\n",
    "    i 1 2 3 4 5 6 7 8 9 10\n",
    "    ===== == == == == == == == == == ==\n",
    "    Input 10 20 30 40 50 60 70 80 90 100\n",
    "    y1 25 = (10+20+30+40)/4\n",
    "    y2 35 = (20+30+40+50)/4\n",
    "    y3 45 = (30+40+50+60)/4\n",
    "    y4 55 = (40+50+60+70)/4\n",
    "    y5 65 = (50+60+70+80)/4\n",
    "    y6 75 = (60+70+80+90)/4\n",
    "    y7 85 = (70+80+90+100)/4\n",
    "    Thus, the moving average sequence has n-k+1=10-4+1=7 values.\n",
    "    \n",
    "    Question: Write a function to find moving average in an array over a window:\n",
    "Test it over [3, 5, 7, 2, 8, 10, 11, 65, 72, 81, 99, 100, 150] and window of 3."
   ]
  },
  {
   "cell_type": "code",
   "execution_count": 80,
   "metadata": {},
   "outputs": [],
   "source": [
    "def moving_avg(input_data, window_size):\n",
    "    n=len(input_data)\n",
    "    for i in range(n-window_size+1):\n",
    "        print('y',i,'', int(np.sum([input_array[i + x ] for x in range(window_size) ],dtype=np.int32)/window_size))"
   ]
  },
  {
   "cell_type": "code",
   "execution_count": 81,
   "metadata": {},
   "outputs": [
    {
     "name": "stdout",
     "output_type": "stream",
     "text": [
      "y 0  25\n",
      "y 1  35\n",
      "y 2  45\n",
      "y 3  55\n",
      "y 4  65\n",
      "y 5  75\n",
      "y 6  85\n"
     ]
    }
   ],
   "source": [
    "# testing moving_avg for sifferent inputs\n",
    "input_x1 = [10,20,30,40,50,60,70,80,90,100]\n",
    "\n",
    "moving_avg(input_array,4)"
   ]
  },
  {
   "cell_type": "code",
   "execution_count": 82,
   "metadata": {},
   "outputs": [
    {
     "name": "stdout",
     "output_type": "stream",
     "text": [
      "y 0  5\n",
      "y 1  4\n",
      "y 2  5\n",
      "y 3  6\n",
      "y 4  9\n",
      "y 5  28\n",
      "y 6  49\n",
      "y 7  72\n",
      "y 8  84\n",
      "y 9  93\n",
      "y 10  116\n"
     ]
    }
   ],
   "source": [
    "input_x2= [3, 5, 7, 2, 8, 10, 11, 65, 72, 81, 99, 100, 150]\n",
    "moving_avg(input_array,3)"
   ]
  },
  {
   "cell_type": "code",
   "execution_count": null,
   "metadata": {},
   "outputs": [],
   "source": []
  }
 ],
 "metadata": {
  "kernelspec": {
   "display_name": "Python 3",
   "language": "python",
   "name": "python3"
  },
  "language_info": {
   "codemirror_mode": {
    "name": "ipython",
    "version": 3
   },
   "file_extension": ".py",
   "mimetype": "text/x-python",
   "name": "python",
   "nbconvert_exporter": "python",
   "pygments_lexer": "ipython3",
   "version": "3.8.2"
  }
 },
 "nbformat": 4,
 "nbformat_minor": 4
}
